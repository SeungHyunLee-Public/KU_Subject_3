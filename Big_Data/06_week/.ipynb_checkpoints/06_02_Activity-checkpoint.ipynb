{
 "cells": [
  {
   "cell_type": "code",
   "execution_count": 23,
   "metadata": {},
   "outputs": [
    {
     "ename": "SyntaxError",
     "evalue": "invalid syntax (<ipython-input-23-38cd1ab14d68>, line 30)",
     "output_type": "error",
     "traceback": [
      "\u001b[0;36m  File \u001b[0;32m\"<ipython-input-23-38cd1ab14d68>\"\u001b[0;36m, line \u001b[0;32m30\u001b[0m\n\u001b[0;31m    parameters = \"?query = %s&start = %s&display = %s\"%\u001b[0m\n\u001b[0m                                                       ^\u001b[0m\n\u001b[0;31mSyntaxError\u001b[0m\u001b[0;31m:\u001b[0m invalid syntax\n"
     ]
    }
   ],
   "source": [
    "import os\n",
    "import sys\n",
    "import urllib.request\n",
    "import datetime\n",
    "import time\n",
    "import json\n",
    "client_id = 'yIsy5T7ELDQ9t6jVhOjl' \n",
    "client_secret = 'fsqlnps2CU' \n",
    "\n",
    "#[CODE 1]\n",
    "def getRequestUrl(url):\n",
    "    req = urllib.request.Request(url)\n",
    "    req.add_header(\"X-Naver-Client-Id\", client_id)\n",
    "    req.add_header(\"X-Naver-Client-Secret\", client_secret)\n",
    "\n",
    "    try:\n",
    "        response = urllib.request.urlopen(req)\n",
    "        if response.getcode() == 200:\n",
    "            print(\"[%s] Url Request Success\" % datetime.datetime.now())\n",
    "            return response.read().decode('utf-8')\n",
    "    except Exception as e:\n",
    "            print(e)\n",
    "            print(\"[%s] Error for URL : %s\" % (datetime.datetime.now(), url))\n",
    "            return None\n",
    "\n",
    "#[CODE 2]\n",
    "def getNaverSearch(node, srcText, start, display):\n",
    "    base = \"https://openapi.naver.com/v1/search\"\n",
    "    node = \"/%s.json\" % node\n",
    "    parameters = \"?query = %s&start = %s&display = %s\"%\n",
    "                    (urllib.parse.quote(srcText), start, display)\n",
    "\n",
    "    url = base + node + parameters\n",
    "    responseDecode = getRequestUrl(url) #[CODE 1]\n",
    "\n",
    "    if (responseDecode == None):\n",
    "        return None\n",
    "    else:\n",
    "        return json.loads(responseDecode)\n",
    "\n",
    "    #[CODE 3]\n",
    "def getPostData(post, jsonResult, cnt):\n",
    "    title = post['title’]\n",
    "    description = post['description’]\n",
    "    org_link = post['originallink’]\n",
    "    link = post['link’]\n",
    "\n",
    "    pDate = datetime.datetime.strptime(post['pubDate'], %a,\n",
    "                %d %b %Y %H:%M:%S+0900’)\n",
    "    pDate = pDate.strftime('%Y-%m-%d %H:%M:%S’)\n",
    "\n",
    "    jsonResult.append({'cnt':cnt, 'title':title, 'description': description,\n",
    "                            'org_link':org_link, 'link': org_link, 'pDate':pDate})\n",
    "    return\n",
    "\n",
    "#[CODE 0]\n",
    "def main():\n",
    "    node = 'news' #크롤링할 대상\n",
    "    srcText = input('검색어를 입력하세요: ‘)\n",
    "    cnt = 0\n",
    "    jsonResult = []\n",
    "    jsonResponse = getNaverSearch(node, srcText, 1, 100) #[CODE 2]\n",
    "    total = jsonResponse['total’]\n",
    "                         \n",
    "    while ((jsonResponse != None) and (jsonResponse['display'] != 0)):\n",
    "        for post in jsonResponse['items’]:\n",
    "            cnt += 1\n",
    "            getPostData(post, jsonResult, cnt) #[CODE 3]\n",
    "\n",
    "        start = jsonResponse['start'] + jsonResponse['display’]\n",
    "        jsonResponse = getNaverSearch(node, srcText, start, 100) #[CODE 2]\n",
    "\n",
    "    print('전체 검색 : %d 건' %total)\n",
    "\n",
    "    with open('%s_naver_%s.json' % (srcText, node), 'w', encoding='utf8’)\n",
    "                 as outfile:\n",
    "    jsonFile = json.dumps(jsonResult, indent = 4, sort_keys = True, ensure_ascii = False)\n",
    "    outfile.write(jsonFile)\n",
    "\n",
    "    print(\"가져온 데이터 : %d 건\" %(cnt))\n",
    "    print('%s_naver_%s.json SAVED' % (srcText, node))\n",
    "\n",
    "if __name__ == '__main__’:\n",
    "    main()"
   ]
  },
  {
   "cell_type": "code",
   "execution_count": 24,
   "metadata": {},
   "outputs": [
    {
     "ename": "SyntaxError",
     "evalue": "invalid syntax (<ipython-input-24-0d547e1852ec>, line 12)",
     "output_type": "error",
     "traceback": [
      "\u001b[0;36m  File \u001b[0;32m\"<ipython-input-24-0d547e1852ec>\"\u001b[0;36m, line \u001b[0;32m12\u001b[0m\n\u001b[0;31m    cd, ed_cd, nStartYear, nEndYear)  #[CODE 3]\u001b[0m\n\u001b[0m    ^\u001b[0m\n\u001b[0;31mSyntaxError\u001b[0m\u001b[0;31m:\u001b[0m invalid syntax\n"
     ]
    }
   ],
   "source": [
    "def main():\n",
    "      jsonResult = []\n",
    "      result = []\n",
    "\n",
    "      print(\"<< 국내 입국한 외국인의 통계 데이터를 수집합니다. >>\")\n",
    "      nat_cd = input('국가 코드를 입력하세요(중국: 112 / 일본: 130 / 미국: 275) :')\n",
    "      nStartYear = int(input('데이터를 몇 년부터 수집할까요? : '))\n",
    "      nEndYear = int(input('데이터를 몇 년까지 수집할까요? : '))\n",
    "      ed_cd = \"E\" #E : 방한외래관광객, D : 해외 출국\n",
    "\n",
    "      jsonResult, result, natName, dataEND = getTourismStatsService(nat_\n",
    "                                              cd, ed_cd, nStartYear, nEndYear)  #[CODE 3]\n",
    "\n",
    "      #파일저장 1 : json 파일\n",
    "      with open('./%s_%s_%d_%s.json' % (natName, ed, nStartYear, dataEND),\n",
    "                      'w',encoding='utf8') as outfile:\n",
    "          jsonFile = json.dumps(jsonResult, indent = 4, sort_keys = True,\n",
    "                                          ensure_ascii = False)\n",
    "          outfile.write(jsonFile)\n",
    "      #파일저장 2 : csv 파일\n",
    "      columns = [\"입국자국가\", \"국가코드\", \"입국연월\", \"입국자 수\"]\n",
    "      result_df = pd.DataFrame(result, columns = columns)\n",
    "      result_df.to_csv('./%s_%s_%d_%s.csv' % (natName, ed, nStartYear, dataEND),\n",
    "                             index = False, encoding = 'cp949')\n"
   ]
  },
  {
   "cell_type": "code",
   "execution_count": 29,
   "metadata": {},
   "outputs": [
    {
     "ename": "IndentationError",
     "evalue": "unindent does not match any outer indentation level (<tokenize>, line 22)",
     "output_type": "error",
     "traceback": [
      "\u001b[0;36m  File \u001b[0;32m\"<tokenize>\"\u001b[0;36m, line \u001b[0;32m22\u001b[0m\n\u001b[0;31m    jsonFile = json.dumps(jsonResult, indent = 4, sort_keys = True,\u001b[0m\n\u001b[0m    ^\u001b[0m\n\u001b[0;31mIndentationError\u001b[0m\u001b[0;31m:\u001b[0m unindent does not match any outer indentation level\n"
     ]
    }
   ],
   "source": [
    "def main():\n",
    "    node = 'news' #크롤링할 대상\n",
    "    srcText = input('검색어를 입력하세요: ')\n",
    "    cnt = 0\n",
    "    jsonResult = []\n",
    "\t\n",
    "    jsonResponse = getNaverSearch(node, srcText, 1, 100) #[CODE 2]\n",
    "    total = jsonResponse['total']\n",
    "\n",
    "    while ((jsonResponse != None) and (jsonResponse['display'] != 0)):\n",
    "        for post in jsonResponse['items']:\n",
    "            cnt += 1\n",
    "            getPostData(post, jsonResult, cnt) #[CODE 3]\n",
    "\n",
    "        start = jsonResponse['start'] + jsonResponse['display']\n",
    "        jsonResponse = getNaverSearch(node, srcText, start, 100) #[CODE 2]\n",
    " \n",
    "    print('전체 검색 : %d 건' %total)\n",
    "\n",
    "    with open('%s_naver_%s.json' % (srcText, node), 'w', encoding = 'utf8’)\n",
    "\t    as outfile:\n",
    "        jsonFile = json.dumps(jsonResult, indent = 4, sort_keys = True,\n",
    "\t                          ensure_ascii = False)\n",
    "\t\n",
    "        outfile.write(jsonFile)\n",
    " \n",
    "    print(\"가져온 데이터 : %d 건\" %(cnt))\n",
    "    print('%s_naver_%s.json SAVED' % (srcText, node))\n",
    "\t"
   ]
  }
 ],
 "metadata": {
  "kernelspec": {
   "display_name": "Python 3",
   "language": "python",
   "name": "python3"
  },
  "language_info": {
   "codemirror_mode": {
    "name": "ipython",
    "version": 3
   },
   "file_extension": ".py",
   "mimetype": "text/x-python",
   "name": "python",
   "nbconvert_exporter": "python",
   "pygments_lexer": "ipython3",
   "version": "3.8.5"
  }
 },
 "nbformat": 4,
 "nbformat_minor": 4
}
