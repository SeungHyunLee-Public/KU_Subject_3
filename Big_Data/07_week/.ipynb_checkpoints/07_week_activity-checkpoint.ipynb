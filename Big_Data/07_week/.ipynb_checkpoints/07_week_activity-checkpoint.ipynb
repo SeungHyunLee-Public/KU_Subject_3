{
 "cells": [
  {
   "cell_type": "code",
   "execution_count": 4,
   "metadata": {},
   "outputs": [],
   "source": [
    "from bs4 import BeautifulSoup"
   ]
  },
  {
   "cell_type": "code",
   "execution_count": 30,
   "metadata": {},
   "outputs": [],
   "source": [
    "html = '<h1 id = \"title\"한빛출판네트워크</h1><div class=\"top\"><ul class=\"menu\"><li><a href=\"http://www.hanbit.co.kr/member/login.html\" class=\"login\">로그인</a></li></ul><ul class=\"brand\"><li><a href=\"http://www.hanbit.co.kr/media/\">한빛아카데미</a></li></ul></div>'"
   ]
  },
  {
   "cell_type": "code",
   "execution_count": 31,
   "metadata": {},
   "outputs": [],
   "source": [
    "html = '<h1 id=\"title\">한빛출판네트워크</h1><div class=\"top\"><ul class=\"menu\"><li><a href=\"http://www.hanbit.co.kr/member/login.html\" class=\"login\">로그인</a></li></ul><ul class=\"brand\"><li><a href = \"http://www.hanbit.co.kr/media\">한빛미디어</a></li><li><a href=\"http://www.hanbit.co.kr/academy/\">한빛아카데미</a></li></ul></div>'"
   ]
  },
  {
   "cell_type": "code",
   "execution_count": 32,
   "metadata": {},
   "outputs": [],
   "source": [
    "soup = BeautifulSoup(html, 'html.parser')"
   ]
  },
  {
   "cell_type": "code",
   "execution_count": 13,
   "metadata": {},
   "outputs": [
    {
     "name": "stdout",
     "output_type": "stream",
     "text": [
      "<h1 h1=\"\" id=\"title\" 한빛출판네트워크<=\"\">\n",
      " <div class=\"top\">\n",
      "  <ul class=\"menu\">\n",
      "   <li>\n",
      "    <a class=\"login\" href=\"http://www.hanbit.co.kr/member/login.html\">\n",
      "     로그인\n",
      "    </a>\n",
      "   </li>\n",
      "  </ul>\n",
      "  <ul class=\"brand\">\n",
      "   <li>\n",
      "    <a href=\"http://www.hanbit.co.kr/media/\">\n",
      "     한빛아카데미\n",
      "    </a>\n",
      "   </li>\n",
      "  </ul>\n",
      " </div>\n",
      "</h1>\n"
     ]
    }
   ],
   "source": [
    "print(soup.prettify())"
   ]
  },
  {
   "cell_type": "code",
   "execution_count": 33,
   "metadata": {},
   "outputs": [
    {
     "data": {
      "text/plain": [
       "<h1 id=\"title\">한빛출판네트워크</h1>"
      ]
     },
     "execution_count": 33,
     "metadata": {},
     "output_type": "execute_result"
    }
   ],
   "source": [
    "soup.h1"
   ]
  },
  {
   "cell_type": "code",
   "execution_count": 17,
   "metadata": {},
   "outputs": [
    {
     "data": {
      "text/plain": [
       "<h1 h1=\"\" id=\"title\" 한빛출판네트워크<=\"\"><div class=\"top\"><ul class=\"menu\"><li><a class=\"login\" href=\"http://www.hanbit.co.kr/member/login.html\">로그인</a></li></ul><ul class=\"brand\"><li><a href=\"http://www.hanbit.co.kr/media/\">한빛아카데미</a></li></ul></div></h1>"
      ]
     },
     "execution_count": 17,
     "metadata": {},
     "output_type": "execute_result"
    }
   ],
   "source": [
    "tag_h1 = soup.h1\n",
    "tag_h1"
   ]
  },
  {
   "cell_type": "code",
   "execution_count": 34,
   "metadata": {},
   "outputs": [
    {
     "data": {
      "text/plain": [
       "<ul class=\"menu\"><li><a class=\"login\" href=\"http://www.hanbit.co.kr/member/login.html\">로그인</a></li></ul>"
      ]
     },
     "execution_count": 34,
     "metadata": {},
     "output_type": "execute_result"
    }
   ],
   "source": [
    "tag_ul = soup.ul\n",
    "tag_ul"
   ]
  },
  {
   "cell_type": "code",
   "execution_count": 35,
   "metadata": {},
   "outputs": [
    {
     "data": {
      "text/plain": [
       "<li><a class=\"login\" href=\"http://www.hanbit.co.kr/member/login.html\">로그인</a></li>"
      ]
     },
     "execution_count": 35,
     "metadata": {},
     "output_type": "execute_result"
    }
   ],
   "source": [
    "tag_li=soup.li\n",
    "tag_li"
   ]
  },
  {
   "cell_type": "code",
   "execution_count": 36,
   "metadata": {},
   "outputs": [
    {
     "data": {
      "text/plain": [
       "<a class=\"login\" href=\"http://www.hanbit.co.kr/member/login.html\">로그인</a>"
      ]
     },
     "execution_count": 36,
     "metadata": {},
     "output_type": "execute_result"
    }
   ],
   "source": [
    "tag_a=soup.a\n",
    "tag_a"
   ]
  },
  {
   "cell_type": "code",
   "execution_count": 37,
   "metadata": {},
   "outputs": [
    {
     "data": {
      "text/plain": [
       "[<ul class=\"menu\"><li><a class=\"login\" href=\"http://www.hanbit.co.kr/member/login.html\">로그인</a></li></ul>,\n",
       " <ul class=\"brand\"><li><a href=\"http://www.hanbit.co.kr/media\">한빛미디어</a></li><li><a href=\"http://www.hanbit.co.kr/academy/\">한빛아카데미</a></li></ul>]"
      ]
     },
     "execution_count": 37,
     "metadata": {},
     "output_type": "execute_result"
    }
   ],
   "source": [
    "tag_ul_all=soup.find_all(\"ul\")\n",
    "tag_ul_all"
   ]
  },
  {
   "cell_type": "code",
   "execution_count": 38,
   "metadata": {},
   "outputs": [
    {
     "data": {
      "text/plain": [
       "[<a class=\"login\" href=\"http://www.hanbit.co.kr/member/login.html\">로그인</a>,\n",
       " <a href=\"http://www.hanbit.co.kr/media\">한빛미디어</a>,\n",
       " <a href=\"http://www.hanbit.co.kr/academy/\">한빛아카데미</a>]"
      ]
     },
     "execution_count": 38,
     "metadata": {},
     "output_type": "execute_result"
    }
   ],
   "source": [
    "tag_a_all=soup.find_all(\"a\")\n",
    "tag_a_all"
   ]
  },
  {
   "cell_type": "code",
   "execution_count": 39,
   "metadata": {},
   "outputs": [
    {
     "data": {
      "text/plain": [
       "{'href': 'http://www.hanbit.co.kr/member/login.html', 'class': ['login']}"
      ]
     },
     "execution_count": 39,
     "metadata": {},
     "output_type": "execute_result"
    }
   ],
   "source": [
    "tag_a.attrs"
   ]
  },
  {
   "cell_type": "code",
   "execution_count": 41,
   "metadata": {},
   "outputs": [
    {
     "data": {
      "text/plain": [
       "'http://www.hanbit.co.kr/member/login.html'"
      ]
     },
     "execution_count": 41,
     "metadata": {},
     "output_type": "execute_result"
    }
   ],
   "source": [
    "tag_a['href']"
   ]
  },
  {
   "cell_type": "code",
   "execution_count": 43,
   "metadata": {},
   "outputs": [
    {
     "data": {
      "text/plain": [
       "['login']"
      ]
     },
     "execution_count": 43,
     "metadata": {},
     "output_type": "execute_result"
    }
   ],
   "source": [
    "tag_a['class']"
   ]
  },
  {
   "cell_type": "code",
   "execution_count": 45,
   "metadata": {},
   "outputs": [
    {
     "data": {
      "text/plain": [
       "<ul class=\"brand\"><li><a href=\"http://www.hanbit.co.kr/media\">한빛미디어</a></li><li><a href=\"http://www.hanbit.co.kr/academy/\">한빛아카데미</a></li></ul>"
      ]
     },
     "execution_count": 45,
     "metadata": {},
     "output_type": "execute_result"
    }
   ],
   "source": [
    "tag_ul_2=soup.find('ul', attrs={'class':'brand'})\n",
    "tag_ul_2"
   ]
  },
  {
   "cell_type": "code",
   "execution_count": 49,
   "metadata": {},
   "outputs": [
    {
     "data": {
      "text/plain": [
       "<h1 id=\"title\">한빛출판네트워크</h1>"
      ]
     },
     "execution_count": 49,
     "metadata": {},
     "output_type": "execute_result"
    }
   ],
   "source": [
    "title = soup.find(id=\"title\")\n",
    "title"
   ]
  },
  {
   "cell_type": "code",
   "execution_count": 51,
   "metadata": {},
   "outputs": [
    {
     "data": {
      "text/plain": [
       "'한빛출판네트워크'"
      ]
     },
     "execution_count": 51,
     "metadata": {},
     "output_type": "execute_result"
    }
   ],
   "source": [
    "title.string"
   ]
  },
  {
   "cell_type": "code",
   "execution_count": 55,
   "metadata": {},
   "outputs": [
    {
     "data": {
      "text/plain": [
       "[<li><a href=\"http://www.hanbit.co.kr/media\">한빛미디어</a></li>,\n",
       " <li><a href=\"http://www.hanbit.co.kr/academy/\">한빛아카데미</a></li>]"
      ]
     },
     "execution_count": 55,
     "metadata": {},
     "output_type": "execute_result"
    }
   ],
   "source": [
    "li_list=soup.select(\"div>ul.brand>li\")\n",
    "li_list"
   ]
  },
  {
   "cell_type": "code",
   "execution_count": 56,
   "metadata": {},
   "outputs": [
    {
     "name": "stdout",
     "output_type": "stream",
     "text": [
      "한빛미디어\n",
      "한빛아카데미\n"
     ]
    }
   ],
   "source": [
    "for li in li_list:\n",
    "    print(li.string)"
   ]
  }
 ],
 "metadata": {
  "kernelspec": {
   "display_name": "Python 3",
   "language": "python",
   "name": "python3"
  },
  "language_info": {
   "codemirror_mode": {
    "name": "ipython",
    "version": 3
   },
   "file_extension": ".py",
   "mimetype": "text/x-python",
   "name": "python",
   "nbconvert_exporter": "python",
   "pygments_lexer": "ipython3",
   "version": "3.8.5"
  }
 },
 "nbformat": 4,
 "nbformat_minor": 4
}
