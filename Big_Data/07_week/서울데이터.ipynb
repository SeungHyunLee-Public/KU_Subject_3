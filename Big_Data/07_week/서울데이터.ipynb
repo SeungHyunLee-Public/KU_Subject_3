{
 "cells": [
  {
   "cell_type": "code",
   "execution_count": 5,
   "metadata": {},
   "outputs": [],
   "source": [
    "import requests"
   ]
  },
  {
   "cell_type": "code",
   "execution_count": 6,
   "metadata": {},
   "outputs": [],
   "source": [
    "from bs4 import BeautifulSoup"
   ]
  },
  {
   "cell_type": "code",
   "execution_count": 27,
   "metadata": {},
   "outputs": [],
   "source": [
    "webpage = requests.get(\"http://openAPI.seoul.go.kr:8088/696d7266526573683535505854724e/xml/ChunmanFreeSuggestions/1/5\")"
   ]
  },
  {
   "cell_type": "code",
   "execution_count": 28,
   "metadata": {},
   "outputs": [],
   "source": [
    "soup = BeautifulSoup(webpage.content, \"html.parser\")"
   ]
  },
  {
   "cell_type": "code",
   "execution_count": 30,
   "metadata": {
    "scrolled": true
   },
   "outputs": [
    {
     "name": "stdout",
     "output_type": "stream",
     "text": [
      "<?xml version=\"1.0\" encoding=\"UTF-8\"?>\n",
      "<chunmanfreesuggestions>\n",
      "<list_total_count>4788</list_total_count>\n",
      "<result>\n",
      "<code>INFO-000</code>\n",
      "<message>정상 처리되었습니다</message>\n",
      "</result>\n",
      "<row>\n",
      "<sn>189843</sn>\n",
      "<title>[뉴노멀 서울관광상품 개발 오디톤 참가]</title>\n",
      "<content><![CDATA[http://democracy.seoul.go.kr/front/freeSuggest/view.do?sn=189843]]></content>\n",
      "<vote_score>1</vote_score>\n",
      "<reg_date>2021-04-14 02:36:07.0</reg_date>\n",
      "</row>\n",
      "<row>\n",
      "<sn>189842</sn>\n",
      "<title>신속진단키트 관련</title>\n",
      "<content><![CDATA[http://democracy.seoul.go.kr/front/freeSuggest/view.do?sn=189842]]></content>\n",
      "<vote_score>0</vote_score>\n",
      "<reg_date>2021-04-14 02:01:03.0</reg_date>\n",
      "</row>\n",
      "<row>\n",
      "<sn>189841</sn>\n",
      "<title>광화문 광장에 태극기를 ,,,</title>\n",
      "<content><![CDATA[http://democracy.seoul.go.kr/front/freeSuggest/view.do?sn=189841]]></content>\n",
      "<vote_score>1</vote_score>\n",
      "<reg_date>2021-04-14 01:56:23.0</reg_date>\n",
      "</row>\n",
      "<row>\n",
      "<sn>189840</sn>\n",
      "<title>[뉴노멀 서울관광 오디톤 참가] 오디든 GO: SEOUL</title>\n",
      "<content><![CDATA[http://democracy.seoul.go.kr/front/freeSuggest/view.do?sn=189840]]></content>\n",
      "<vote_score>0</vote_score>\n",
      "<reg_date>2021-04-14 00:40:52.0</reg_date>\n",
      "</row>\n",
      "<row>\n",
      "<sn>189837</sn>\n",
      "<title>취소된 북서울꿈의숲 \"나\"지구 재지정</title>\n",
      "<content><![CDATA[http://democracy.seoul.go.kr/front/freeSuggest/view.do?sn=189837]]></content>\n",
      "<vote_score>0</vote_score>\n",
      "<reg_date>2021-04-13 23:37:35.0</reg_date>\n",
      "</row>\n",
      "</chunmanfreesuggestions>\n",
      "\n"
     ]
    }
   ],
   "source": [
    "print(soup)"
   ]
  }
 ],
 "metadata": {
  "kernelspec": {
   "display_name": "Python 3",
   "language": "python",
   "name": "python3"
  },
  "language_info": {
   "codemirror_mode": {
    "name": "ipython",
    "version": 3
   },
   "file_extension": ".py",
   "mimetype": "text/x-python",
   "name": "python",
   "nbconvert_exporter": "python",
   "pygments_lexer": "ipython3",
   "version": "3.8.5"
  }
 },
 "nbformat": 4,
 "nbformat_minor": 4
}
